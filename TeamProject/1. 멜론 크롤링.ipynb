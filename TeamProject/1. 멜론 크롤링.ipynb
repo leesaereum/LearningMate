{
 "cells": [
  {
   "cell_type": "code",
   "execution_count": 2,
   "metadata": {},
   "outputs": [],
   "source": [
    "import requests\n",
    "from bs4 import BeautifulSoup\n",
    "import time\n",
    "import random\n",
    "import pandas as pd"
   ]
  },
  {
   "cell_type": "markdown",
   "metadata": {},
   "source": [
    "# 노래제목 크롤링하기"
   ]
  },
  {
   "cell_type": "code",
   "execution_count": null,
   "metadata": {},
   "outputs": [],
   "source": [
    "years = ['2022', '2021', '2020']\n",
    "gnrs = {\n",
    "    'GN0100': '발라드',\n",
    "    'GN0200': '댄스',\n",
    "    'GN0300': '힙합',\n",
    "    'GN0700': '트로트',\n",
    "    'GN0800': '포크',\n",
    "    'GN2400': '국악',\n",
    "  }\n",
    "df = pd.DataFrame(columns=['genre', 'song_id', 'artist_id', 'song_name', 'artist_name'])\n",
    "\n",
    "for year in years:\n",
    "  months = ['01', '02', '03', '04', '05', '06', '07', '08', '09', '10', '11', '12']\n",
    "\n",
    "  # 2022년은 6월까지만 있음\n",
    "  if(year == '2022'):\n",
    "    months = ['01', '02', '03', '04', '05', '06']\n",
    "\n",
    "  for month in months:\n",
    "    # 장르별 클릭\n",
    "    for gnrid, gnrname in gnrs.items():\n",
    "      # random time\n",
    "      time.sleep(random.randint(1, 4))\n",
    "\n",
    "      url = 'https://www.melon.com/chart/search/list.htm?chartType=MO&age=2020&year='+year+'&mon='+month+'&classCd='+gnrid+'&moved=Y'\n",
    "      # set headers\n",
    "      headers = {\n",
    "        'User-Agent': 'Mozilla/5.0 (Macintosh; Intel Mac OS X 10_15_4) AppleWebKit/537.36 (KHTML, like Gecko) Chrome/81.0.4044.138 Safari/537.36',\n",
    "        'Referer': 'https://www.melon.com/chart/search/index.htm',\n",
    "        'Host': 'www.melon.com',\n",
    "        'Sec-Fetch-Site': 'same-origin',\n",
    "        'Sec-Fetch-Mode': 'cors',\n",
    "        'Sec-Fetch-Dest': 'empty',\n",
    "        'Accept': '*/*',\n",
    "        'Accept-Language': 'ko-KR,ko;q=0.9,en-US;q=0.8,en;q=0.7',\n",
    "        'X-Requested-With': 'XMLHttpRequest',\n",
    "        'Connection': 'keep-alive',\n",
    "        'Cookie':'__T_=1; PCID=16588238875659253194716; PC_PCID=16588238875659253194716; POC=MP10; _T_ANO=MV0k3Iq2XCCiPOOi7xfq0iLAARL/I91rWBM5GGZ9C/FRgaBUoFDBzSqHGq56Wbm100ztNv4VOQIOZV6CjdPDjqh3a6Oetqo4nAeL8UUDs6AceTzaxt8/RbNboG3G4uK0wvYq+aQi2jpN5Ztr2XpkdLIuLMjElj/9RQpNE1wP/Y/sEVbRVnTKI4d3aKWEz5Q3W2fF0F1M4eTl9vFYfdOxbF9SmwAx2A2rLG6rJRPyhC5fpRB55bex0knivxhcpF2T3TdhF6A+28g2AQOTWmfxN1Ov7BzL97c6XEjy6wD0dGJ9yVmkcu+a+Usmv2aavK/p+0fmCd1b1mG3+D1JiHoQGw==; wcs_bt=s_f9c4bde066b:1658884565'\n",
    "\n",
    "      }\n",
    "      # request\n",
    "      response = requests.get(url, headers=headers)\n",
    "      # print(response.status_code)\n",
    "      # html\n",
    "      html = response.text\n",
    "      # soup\n",
    "      soup = BeautifulSoup(html, 'html.parser')\n",
    "\n",
    "      songs = soup.select('.wrap_song_info')\n",
    "\n",
    "      for song in songs:\n",
    "        song_info = song.select_one('.rank01 a:first-child')\n",
    "        if(song_info is not None):\n",
    "          song_id = song_info['href']\n",
    "        else:\n",
    "          continue\n",
    "\n",
    "        # song id not None\n",
    "        if(song_id != None):\n",
    "          song_id = song_id.split(\"'\")[-2]\n",
    "        else:\n",
    "          continue\n",
    "        \n",
    "        song_name = song_info.text\n",
    "\n",
    "        artist_info = song.select_one('.rank02 a:first-child')\n",
    "        if(artist_info is not None):\n",
    "          artist_id = artist_info['href']\n",
    "        else:\n",
    "          continue\n",
    "\n",
    "        # artist id not None\n",
    "        if(artist_id != None):\n",
    "          artist_id = artist_id.split(\"'\")[-2]\n",
    "        else:\n",
    "          continue\n",
    "\n",
    "        artist_name = artist_info.text\n",
    "\n",
    "        df = df.append({'genre': gnrname, 'song_id': song_id, 'artist_id': artist_id, 'song_name': song_name, 'artist_name': artist_name}, ignore_index=True)\n",
    "        \n",
    "\n",
    "df.to_csv('new_new.csv', index=False)"
   ]
  },
  {
   "cell_type": "code",
   "execution_count": 5,
   "metadata": {},
   "outputs": [],
   "source": [
    "# 중복제거 등\n",
    "df = pd.read_csv('new_new.csv')\n",
    "\n",
    "df['song_name_artistid'] = ''\n",
    "\n",
    "for i in range(len(df)):\n",
    "  songname = str(df.iloc[i, 3])\n",
    "  songname = songname.split('(')[0]\n",
    "\n",
    "  df.iloc[i, 5] = songname + '_' + str(df.iloc[i, 4])\n",
    "\n",
    "# drop if 'song_name' column string include 'inst'\n",
    "df = df[~df['song_name'].str.lower().str.contains('inst')]\n",
    "df = df[~df['song_name'].str.lower().str.contains('japanese ver')]\n",
    "df = df[~df['song_name'].str.lower().str.contains('chinese ver')]\n",
    "df = df[~df['song_name'].str.lower().str.contains('english ver')]\n",
    "df = df[~df['song_name'].str.lower().str.contains('remix')]\n",
    "\n",
    "df = df.drop_duplicates(subset=['song_name_artistid'])\n",
    "df = df.reset_index(drop=True)\n",
    "\n",
    "# drop 'song_name_artistid' column\n",
    "df = df.drop(columns=['song_name_artistid'])\n",
    "\n",
    "# save df to csv\n",
    "df.to_csv('songs_check.csv', index=False)"
   ]
  },
  {
   "cell_type": "code",
   "execution_count": 8,
   "metadata": {},
   "outputs": [
    {
     "data": {
      "text/plain": [
       "발라드    557\n",
       "힙합     473\n",
       "댄스     443\n",
       "트로트    425\n",
       "국악     312\n",
       "포크     275\n",
       "Name: genre, dtype: int64"
      ]
     },
     "execution_count": 8,
     "metadata": {},
     "output_type": "execute_result"
    }
   ],
   "source": [
    "songs = pd.read_csv('songs_check.csv')\n",
    "songs.head()\n",
    "\n",
    "# count songs group by genre\n",
    "songs['genre'].value_counts()"
   ]
  },
  {
   "cell_type": "markdown",
   "metadata": {},
   "source": [
    "# 포크 국악 보충"
   ]
  },
  {
   "cell_type": "code",
   "execution_count": 9,
   "metadata": {},
   "outputs": [
    {
     "name": "stdout",
     "output_type": "stream",
     "text": [
      "200\n",
      "200\n",
      "200\n",
      "200\n",
      "200\n",
      "200\n",
      "200\n",
      "200\n",
      "200\n",
      "200\n",
      "200\n",
      "200\n",
      "200\n",
      "200\n",
      "200\n",
      "200\n",
      "200\n",
      "200\n",
      "200\n",
      "200\n",
      "200\n",
      "200\n",
      "200\n",
      "200\n",
      "200\n",
      "200\n",
      "200\n",
      "200\n",
      "200\n",
      "200\n",
      "200\n",
      "200\n",
      "200\n",
      "200\n",
      "200\n",
      "200\n",
      "200\n",
      "200\n",
      "200\n",
      "200\n",
      "200\n",
      "200\n",
      "200\n",
      "200\n",
      "200\n",
      "200\n",
      "200\n",
      "200\n"
     ]
    }
   ],
   "source": [
    "years = ['2019', '2018']\n",
    "gnrs = {\n",
    "    'GN0800': '포크',\n",
    "    'GN2400': '국악',\n",
    "  }\n",
    "df = pd.DataFrame(columns=['genre', 'song_id', 'artist_id', 'song_name', 'artist_name'])\n",
    "\n",
    "for year in years:\n",
    "  months = ['01', '02', '03', '04', '05', '06', '07', '08', '09', '10', '11', '12']\n",
    "\n",
    "  for month in months:\n",
    "    # 장르별 클릭\n",
    "    for gnrid, gnrname in gnrs.items():\n",
    "      # random time\n",
    "      time.sleep(random.randint(1, 4))\n",
    "\n",
    "      url = 'https://www.melon.com/chart/search/list.htm?chartType=MO&age=2010&year='+year+'&mon='+month+'&classCd='+gnrid+'&moved=Y'\n",
    "      # set headers\n",
    "      headers = {\n",
    "        'User-Agent': 'Mozilla/5.0 (Macintosh; Intel Mac OS X 10_15_4) AppleWebKit/537.36 (KHTML, like Gecko) Chrome/81.0.4044.138 Safari/537.36',\n",
    "        'Referer': 'https://www.melon.com/chart/search/index.htm',\n",
    "        'Host': 'www.melon.com',\n",
    "        'Sec-Fetch-Site': 'same-origin',\n",
    "        'Sec-Fetch-Mode': 'cors',\n",
    "        'Sec-Fetch-Dest': 'empty',\n",
    "        'Accept': '*/*',\n",
    "        'Accept-Language': 'ko-KR,ko;q=0.9,en-US;q=0.8,en;q=0.7',\n",
    "        'X-Requested-With': 'XMLHttpRequest',\n",
    "        'Connection': 'keep-alive',\n",
    "        'Cookie':'__T_=1; PCID=16588238875659253194716; PC_PCID=16588238875659253194716; POC=MP10; _T_ANO=MV0k3Iq2XCCiPOOi7xfq0iLAARL/I91rWBM5GGZ9C/FRgaBUoFDBzSqHGq56Wbm100ztNv4VOQIOZV6CjdPDjqh3a6Oetqo4nAeL8UUDs6AceTzaxt8/RbNboG3G4uK0wvYq+aQi2jpN5Ztr2XpkdLIuLMjElj/9RQpNE1wP/Y/sEVbRVnTKI4d3aKWEz5Q3W2fF0F1M4eTl9vFYfdOxbF9SmwAx2A2rLG6rJRPyhC5fpRB55bex0knivxhcpF2T3TdhF6A+28g2AQOTWmfxN1Ov7BzL97c6XEjy6wD0dGJ9yVmkcu+a+Usmv2aavK/p+0fmCd1b1mG3+D1JiHoQGw==; wcs_bt=s_f9c4bde066b:1658884565'\n",
    "\n",
    "      }\n",
    "      # request\n",
    "      response = requests.get(url, headers=headers)\n",
    "      print(response.status_code)\n",
    "      # html\n",
    "      html = response.text\n",
    "      # soup\n",
    "      soup = BeautifulSoup(html, 'html.parser')\n",
    "\n",
    "      songs = soup.select('.wrap_song_info')\n",
    "\n",
    "      for song in songs:\n",
    "        song_info = song.select_one('.rank01 a:first-child')\n",
    "        if(song_info is not None):\n",
    "          song_id = song_info['href']\n",
    "        else:\n",
    "          continue\n",
    "\n",
    "        # song id not None\n",
    "        if(song_id != None):\n",
    "          song_id = song_id.split(\"'\")[-2]\n",
    "        else:\n",
    "          continue\n",
    "        \n",
    "        song_name = song_info.text\n",
    "\n",
    "        artist_info = song.select_one('.rank02 a:first-child')\n",
    "        if(artist_info is not None):\n",
    "          artist_id = artist_info['href']\n",
    "        else:\n",
    "          continue\n",
    "\n",
    "        # artist id not None\n",
    "        if(artist_id != None):\n",
    "          artist_id = artist_id.split(\"'\")[-2]\n",
    "        else:\n",
    "          continue\n",
    "\n",
    "        artist_name = artist_info.text\n",
    "\n",
    "        df = df.append({'genre': gnrname, 'song_id': song_id, 'artist_id': artist_id, 'song_name': song_name, 'artist_name': artist_name}, ignore_index=True)\n",
    "        \n",
    "\n",
    "df.to_csv('fork_nat.csv', index=False)"
   ]
  },
  {
   "cell_type": "markdown",
   "metadata": {},
   "source": [
    "# 포크 국악 합쳐서 전체 중복체크"
   ]
  },
  {
   "cell_type": "code",
   "execution_count": 11,
   "metadata": {},
   "outputs": [
    {
     "data": {
      "text/plain": [
       "발라드    559\n",
       "힙합     486\n",
       "댄스     448\n",
       "트로트    435\n",
       "포크     433\n",
       "국악     418\n",
       "Name: genre, dtype: int64"
      ]
     },
     "execution_count": 11,
     "metadata": {},
     "output_type": "execute_result"
    }
   ],
   "source": [
    "df1 = pd.read_csv('fork_nat.csv')\n",
    "df2 = pd.read_csv('new_new.csv')\n",
    "# append df1 to df2\n",
    "df = df1.append(df2)\n",
    "df = df.drop_duplicates(subset=['song_id'])\n",
    "df = df.reset_index(drop=True)\n",
    "df.to_csv('data_0727.csv', index=False)\n",
    "\n",
    "# print value count by genre\n",
    "df['genre'].value_counts()"
   ]
  },
  {
   "cell_type": "markdown",
   "metadata": {},
   "source": [
    "# 최종 데이터에 'lyric' 컬럼 추가"
   ]
  },
  {
   "cell_type": "code",
   "execution_count": 14,
   "metadata": {},
   "outputs": [],
   "source": [
    "data = pd.read_csv('data_0727.csv')\n",
    "data.head()\n",
    "\n",
    "# add 'lyric' column\n",
    "data['lyric'] = ''\n",
    "data.head()\n",
    "# save\n",
    "data.to_csv('data_0727.csv', index=False)"
   ]
  },
  {
   "cell_type": "markdown",
   "metadata": {},
   "source": [
    "# 가사 가져오기"
   ]
  },
  {
   "cell_type": "code",
   "execution_count": 30,
   "metadata": {},
   "outputs": [],
   "source": [
    "data = pd.read_csv('songs_fin.csv')\n",
    "data.head()\n",
    "\n",
    "for i in range(len(data)):\n",
    "  if pd.isna(data.iloc[i, 5]): # if lyric is nan\n",
    "    sleepTime = random.randint(1, 4)\n",
    "    time.sleep(sleepTime)\n",
    "\n",
    "    song_id = data['song_id'][i]\n",
    "    url = 'https://www.melon.com/song/detail.htm?songId=' + str(song_id)\n",
    "    r = requests.get(url, headers={\"User-Agent\": \"Mozilla/5.0\"})\n",
    "    html = r.text\n",
    "    soup = BeautifulSoup(html, 'html.parser')\n",
    "    if '페이지를 찾을 수 없습니다' in soup.text:\n",
    "      print('error')\n",
    "      break\n",
    "    else:\n",
    "\n",
    "      lyric = soup.select_one('#d_video_summary')\n",
    "      lyric = str(lyric).split('-->')[-1]\n",
    "      lyric = lyric.split('</div>')[0]\n",
    "      lyric = lyric.strip()\n",
    "      lyric = lyric.replace('<br/>', ' ')\n",
    "      \n",
    "      data.iloc[i, 5] = lyric\n",
    "\n",
    "      # save df to csv\n",
    "      data.to_csv('songs_fin.csv', index=False, encoding='utf-8')"
   ]
  }
 ],
 "metadata": {
  "kernelspec": {
   "display_name": "Python 3.9.7 ('base')",
   "language": "python",
   "name": "python3"
  },
  "language_info": {
   "codemirror_mode": {
    "name": "ipython",
    "version": 3
   },
   "file_extension": ".py",
   "mimetype": "text/x-python",
   "name": "python",
   "nbconvert_exporter": "python",
   "pygments_lexer": "ipython3",
   "version": "3.9.7"
  },
  "orig_nbformat": 4,
  "vscode": {
   "interpreter": {
    "hash": "c34e8390e776d2ee205b71ed5a6130fee3cef8da5e87e926ce18e14f4a070d72"
   }
  }
 },
 "nbformat": 4,
 "nbformat_minor": 2
}
