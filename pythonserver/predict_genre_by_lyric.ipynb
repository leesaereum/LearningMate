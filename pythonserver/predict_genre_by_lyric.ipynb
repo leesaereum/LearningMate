{
 "cells": [
  {
   "cell_type": "code",
   "execution_count": 6,
   "metadata": {},
   "outputs": [],
   "source": [
    "from flask import Flask, render_template, request\n",
    "from tensorflow import keras\n",
    "import numpy as np\n",
    "import jsonify\n",
    "import json\n",
    "\n",
    "from konlpy.tag import Okt\n",
    "okt = Okt()"
   ]
  },
  {
   "cell_type": "code",
   "execution_count": 15,
   "metadata": {},
   "outputs": [
    {
     "name": "stdout",
     "output_type": "stream",
     "text": [
      "1/1 [==============================] - 1s 1s/step\n",
      "힙합\n"
     ]
    }
   ],
   "source": [
    "model = keras.models.load_model('data/predict_genre_by_lstm.h5')\n",
    "\n",
    "lyric = '내 랩을 들어 나는 우리나라 최고의 래퍼다'\n",
    "\n",
    "# Load the token-to-index dictionary\n",
    "with open('data/token_to_index.json') as f:\n",
    "    index_dict = json.load(f)['0']\n",
    "    input_tokenized = okt.nouns(lyric)\n",
    "\n",
    "    input_indexed = []\n",
    "\n",
    "    # Convert the tokens to their index values\n",
    "    for t in input_tokenized:\n",
    "        if t in index_dict:\n",
    "           input_indexed.append(index_dict[t])\n",
    "    # Pad the sequence to the right length\n",
    "    input_indexed = np.array([input_indexed])\n",
    "    # pad to 105\n",
    "    input_padded = keras.preprocessing.sequence.pad_sequences(input_indexed, maxlen=105, padding='post')\n",
    "\n",
    "    pred = model.predict(input_padded)\n",
    "    genre_list = ['발라드', '댄스', '힙합', '트로트']\n",
    "\n",
    "    # Get the index of the highest probability\n",
    "    genre = genre_list[np.argmax(pred)]\n",
    "\n",
    "\n"
   ]
  },
  {
   "cell_type": "code",
   "execution_count": null,
   "metadata": {},
   "outputs": [],
   "source": [
    "app = Flask(__name__)\n",
    "\n",
    "@app.route('/predictgenrebylstm', mothods=['POST'])\n",
    "def predict_genre_by_dl():\n",
    "    # parameter로 넘어온 lyric을 받습니다.\n",
    "    lyric = request.args.get('lyric')\n",
    "\n",
    "    # Null Check와 Empyt 체크를 합니다.\n",
    "    if lyric is None or lyric == '':\n",
    "        return jsonify({'result': '가사가 입력되지 않았습니다. - No parameter'})\n",
    "\n",
    "    else:\n",
    "        # 저장한 모델을 로드합니다.\n",
    "        model = keras.models.load_model('data/predict_genre_by_lstm.h5')\n",
    "\n",
    "        # Load the token-to-index dictionary\n",
    "        with open('data/token_to_index.json') as f:\n",
    "            tokenizer = json.load(f)\n",
    "\n",
    "        return label"
   ]
  }
 ],
 "metadata": {
  "kernelspec": {
   "display_name": "Python 3.7.13 ('tensorflow')",
   "language": "python",
   "name": "python3"
  },
  "language_info": {
   "codemirror_mode": {
    "name": "ipython",
    "version": 3
   },
   "file_extension": ".py",
   "mimetype": "text/x-python",
   "name": "python",
   "nbconvert_exporter": "python",
   "pygments_lexer": "ipython3",
   "version": "3.7.13"
  },
  "orig_nbformat": 4,
  "vscode": {
   "interpreter": {
    "hash": "031516d5089d8191e78e906aaec9fc12f69b6ded71cabf4c1fff4df0e2792dca"
   }
  }
 },
 "nbformat": 4,
 "nbformat_minor": 2
}
